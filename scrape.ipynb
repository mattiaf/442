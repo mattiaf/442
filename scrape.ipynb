{
 "metadata": {
  "name": "",
  "signature": "sha256:508ca6e253e1d0dc07bbfedee30f822de03c5dee82ffa7a3e5969dd5c26cd5ee"
 },
 "nbformat": 3,
 "nbformat_minor": 0,
 "worksheets": [
  {
   "cells": [
    {
     "cell_type": "code",
     "collapsed": false,
     "input": [
      "from bs4 import BeautifulSoup \n",
      "import urllib2\n",
      "import pandas as pd\n",
      "import string\n",
      "import re\n",
      "import time\n",
      "import pickle\n",
      "\n",
      "\n",
      "# Given a match page (such as 'http://www.football-lineups.com/match/202249/') extracts football tactics for the two teams\n",
      "# It looks for combinations of numbers such as X-X-X, or X-X-X-X\n",
      "def get_tactics(url):\n",
      "    url='http://www.football-lineups.com/match/202249/'\n",
      "    req = urllib2.Request(url, headers={'User-Agent' : \"Mozilla/5.0 (X11; Linux x86_64) AppleWebKit/534.30 (KHTML, like Gecko) Ubuntu/11.04 Chromium/12.0.742.112 Chrome/12.0.742.112 Safari/534.30\"}) \n",
      "    soup = BeautifulSoup(urllib2.urlopen(req))\n",
      "    tactics=re.findall(r'\\d-\\d-\\d-?\\d?',str(soup))\n",
      "    return [tactics[0],tactics[len(tactics)-1]]\n",
      "\n",
      "\n",
      "# Given a page with a list of results (such as http://www.football-lineups.com/tourn/FA_Premier_League_2014-2015/)\n",
      "# Extracts all the games, and calls get_tactics for each of them\n",
      "# Results are stored in a pandas dataframe including name of teams, result, tactics of the two teams.\n",
      "def get_year(year, competition):\n",
      "    url='http://www.football-lineups.com/tourn/'+competition+'_'+year+'/fixture/'\n",
      "    req = urllib2.Request(url, headers={'User-Agent' : \"Mozilla/5.0 (X11; Linux x86_64) AppleWebKit/534.30 (KHTML, like Gecko) Ubuntu/11.04 Chromium/12.0.742.112 Chrome/12.0.742.112 Safari/534.30\"}) \n",
      "    soup = BeautifulSoup(urllib2.urlopen(req))\n",
      "    a=soup.findAll('a')\n",
      "    tr=soup.findAll('tr')\n",
      "    df = pd.DataFrame(data=None)\n",
      "    for tr_i in tr[:]:\n",
      "        aa = [i.contents for i in tr_i.findAll('a')]\n",
      "        href = [i.attrs.get('href') for i in tr_i.findAll('a')]\n",
      "        if len(aa) <= 6 & len(aa) >= 4:\n",
      "            time.sleep(12)\n",
      "            buffer = len(aa) - 4\n",
      "            team1 = aa[buffer][0]\n",
      "            team2 = aa[buffer +2][0]\n",
      "            res = \"\".join([str(ii) for ii in aa[1 +buffer]])\n",
      "            res = res.replace(\"<b>\", \"\")\n",
      "            res = res.replace(\"</b>\", \"\")\n",
      "            print  res\n",
      "            if (team1 != 'Stats'):\n",
      "                tactics =get_tactics('http://www.football-lineups.com'+href[1+buffer])\n",
      "                print tactics, href[1+buffer], tactics[0],  tactics[1]\n",
      "                df=df.append(pd.Series([team1, team2, res, href[1+buffer], tactics[0], tactics[1]]), ignore_index=True)\n",
      "    return df\n",
      "\n",
      "\n",
      "# loops through different seasons and saves the result into pickled files\n",
      "\n",
      "years = ['2003-2004','2005-2006','2007-2008','2009-2010','2011-2012','2013-2014']\n",
      "     \n",
      "for year in years:\n",
      "    df=get_year(year, 'FA_Premier_League')\n",
      "    df.columns=['Team1','Team2','Result','Match','Tactic1','Tactic2']\n",
      "    #(df.Tactic1.append(df.Tactic2)).value_counts()\n",
      "    df=df.astype(str)\n",
      "    f = open('FA_Premier_League'+year+'.pickle','wb')\n",
      "    pickle.dump(df,f)\n",
      "    f.close()"
     ],
     "language": "python",
     "metadata": {},
     "outputs": [
      {
       "output_type": "stream",
       "stream": "stderr",
       "text": [
        "WARNING:root:Some characters could not be decoded, and were replaced with REPLACEMENT CHARACTER.\n"
       ]
      },
      {
       "output_type": "stream",
       "stream": "stdout",
       "text": [
        "Di Natale\n",
        "Maicon"
       ]
      },
      {
       "output_type": "stream",
       "stream": "stderr",
       "text": [
        "WARNING:root:Some characters could not be decoded, and were replaced with REPLACEMENT CHARACTER.\n"
       ]
      },
      {
       "output_type": "stream",
       "stream": "stdout",
       "text": [
        "\n",
        "['4-3-1-2', '4-3-1-2']"
       ]
      },
      {
       "output_type": "stream",
       "stream": "stdout",
       "text": [
        " /footballer/1041/ 4-3-1-2 4-3-1-2\n",
        " 1-1 "
       ]
      },
      {
       "output_type": "stream",
       "stream": "stderr",
       "text": [
        "WARNING:root:Some characters could not be decoded, and were replaced with REPLACEMENT CHARACTER.\n"
       ]
      },
      {
       "output_type": "stream",
       "stream": "stdout",
       "text": [
        "\n",
        "['4-3-1-2', '5-4-20']"
       ]
      },
      {
       "output_type": "stream",
       "stream": "stdout",
       "text": [
        " /match/55514/ 4-3-1-2 5-4-20\n",
        " 1-2 "
       ]
      },
      {
       "output_type": "stream",
       "stream": "stderr",
       "text": [
        "WARNING:root:Some characters could not be decoded, and were replaced with REPLACEMENT CHARACTER.\n"
       ]
      },
      {
       "output_type": "stream",
       "stream": "stdout",
       "text": [
        "\n",
        "['4-3-1-2', '7-1-20']"
       ]
      },
      {
       "output_type": "stream",
       "stream": "stdout",
       "text": [
        " /match/55522/ 4-3-1-2 7-1-20\n",
        " 1-2 "
       ]
      },
      {
       "output_type": "stream",
       "stream": "stderr",
       "text": [
        "WARNING:root:Some characters could not be decoded, and were replaced with REPLACEMENT CHARACTER.\n"
       ]
      },
      {
       "output_type": "stream",
       "stream": "stdout",
       "text": [
        "\n",
        "['4-3-1-2', '4-4-2']"
       ]
      },
      {
       "output_type": "stream",
       "stream": "stdout",
       "text": [
        " /match/55515/ 4-3-1-2 4-4-2\n",
        " 3-2 "
       ]
      },
      {
       "output_type": "stream",
       "stream": "stderr",
       "text": [
        "WARNING:root:Some characters could not be decoded, and were replaced with REPLACEMENT CHARACTER.\n"
       ]
      },
      {
       "output_type": "stream",
       "stream": "stdout",
       "text": [
        "\n",
        "['4-3-1-2', '4-2-3-1']"
       ]
      },
      {
       "output_type": "stream",
       "stream": "stdout",
       "text": [
        " /match/55516/ 4-3-1-2 4-2-3-1\n",
        " 1-0 "
       ]
      },
      {
       "output_type": "stream",
       "stream": "stderr",
       "text": [
        "WARNING:root:Some characters could not be decoded, and were replaced with REPLACEMENT CHARACTER.\n"
       ]
      },
      {
       "output_type": "stream",
       "stream": "stdout",
       "text": [
        "\n",
        "['4-3-1-2', '4-3-1-2']"
       ]
      },
      {
       "output_type": "stream",
       "stream": "stdout",
       "text": [
        " /match/55518/ 4-3-1-2 4-3-1-2\n",
        " 1-0 "
       ]
      },
      {
       "output_type": "stream",
       "stream": "stderr",
       "text": [
        "WARNING:root:Some characters could not be decoded, and were replaced with REPLACEMENT CHARACTER.\n"
       ]
      },
      {
       "output_type": "stream",
       "stream": "stdout",
       "text": [
        "\n",
        "['4-3-1-2', '3-1-20']"
       ]
      }
     ]
    }
   ],
   "metadata": {}
  }
 ]
}